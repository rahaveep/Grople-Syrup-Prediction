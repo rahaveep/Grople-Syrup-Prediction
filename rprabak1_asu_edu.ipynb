{
  "nbformat": 4,
  "nbformat_minor": 0,
  "metadata": {
    "colab": {
      "name": "rprabak1@asu.edu.ipynb",
      "provenance": [],
      "include_colab_link": true
    },
    "kernelspec": {
      "name": "python3",
      "display_name": "Python 3"
    },
    "language_info": {
      "name": "python"
    }
  },
  "cells": [
    {
      "cell_type": "markdown",
      "metadata": {
        "id": "view-in-github",
        "colab_type": "text"
      },
      "source": [
        "<a href=\"https://colab.research.google.com/github/rahaveep/RESUME/blob/main/rprabak1_asu_edu.ipynb\" target=\"_parent\"><img src=\"https://colab.research.google.com/assets/colab-badge.svg\" alt=\"Open In Colab\"/></a>"
      ]
    },
    {
      "cell_type": "markdown",
      "source": [
        "Importing Libraries"
      ],
      "metadata": {
        "id": "MzrTaL6a2KnP"
      }
    },
    {
      "cell_type": "code",
      "execution_count": null,
      "metadata": {
        "colab": {
          "base_uri": "https://localhost:8080/"
        },
        "id": "YdXW06on5NO_",
        "outputId": "cacc64e0-e7c7-44ab-b3c4-995920c95d24"
      },
      "outputs": [
        {
          "output_type": "stream",
          "name": "stdout",
          "text": [
            "Requirement already satisfied: xgboost in /usr/local/lib/python3.7/dist-packages (0.90)\n",
            "Requirement already satisfied: scipy in /usr/local/lib/python3.7/dist-packages (from xgboost) (1.4.1)\n",
            "Requirement already satisfied: numpy in /usr/local/lib/python3.7/dist-packages (from xgboost) (1.21.5)\n"
          ]
        }
      ],
      "source": [
        "import numpy as np\n",
        "import pandas as pd\n",
        "import sklearn\n",
        "from xgboost import XGBRegressor\n",
        "! pip install xgboost\n",
        "from sklearn.linear_model import LinearRegression\n",
        "from sklearn.model_selection import RepeatedKFold\n",
        "from sklearn.model_selection import cross_val_score\n",
        "from numpy import absolute\n",
        "import xgboost"
      ]
    },
    {
      "cell_type": "code",
      "source": [
        "production_data=pd.read_csv('/content/sample_data/Production Quantity.csv')\n",
        "precipitation_data=pd.read_csv('/content/sample_data/Daily Precipitation.csv')\n",
        "soilmoisture_data=pd.read_csv('/content/sample_data/Daily Soil Mositure.csv')\n",
        "temperature_data=pd.read_csv('/content/sample_data/Daily Temperature.csv')\n",
        "ndvi_data=pd.read_csv('/content/sample_data/Eight Day NDVI.csv')\n"
      ],
      "metadata": {
        "id": "xPOuJx235hr0"
      },
      "execution_count": null,
      "outputs": []
    },
    {
      "cell_type": "markdown",
      "source": [
        ""
      ],
      "metadata": {
        "id": "rxzuFmQu5m3E"
      }
    },
    {
      "cell_type": "markdown",
      "source": [
        "Converting start date from daily basis frequency to monthly basis. \n",
        "Since the final output depends mostly on the production every month, the start dates of the various csv files are converted into month-Year format. Also taking the mean value of the other variables and assigning it on monthly basis. "
      ],
      "metadata": {
        "id": "kgUQIWGn2US8"
      }
    },
    {
      "cell_type": "code",
      "source": [
        "precipitation_data.index = pd.to_datetime(precipitation_data.start_date)\n",
        "temperature_data.index = pd.to_datetime(temperature_data.start_date)\n",
        "soilmoisture_data.index = pd.to_datetime(soilmoisture_data.start_date)\n",
        "ndvi_data.index = pd.to_datetime(ndvi_data.start_date)\n",
        "df = precipitation_data.groupby([precipitation_data.index.strftime('%m-%Y'),precipitation_data.region_id],sort=False)['precip'].mean().reset_index()\n",
        "df1=temperature_data.groupby([temperature_data.index.strftime('%m-%Y'),temperature_data.region_id],sort=False)['temp'].mean().reset_index()\n",
        "df2=soilmoisture_data.groupby([soilmoisture_data.index.strftime('%m-%Y'),soilmoisture_data.region_id],sort=False)['smos'].mean().reset_index()\n",
        "df3=ndvi_data.groupby([ndvi_data.index.strftime('%m-%Y'),ndvi_data.region_id],sort=False)['ndvi'].mean().reset_index()"
      ],
      "metadata": {
        "id": "F-4p931u5huN"
      },
      "execution_count": null,
      "outputs": []
    },
    {
      "cell_type": "code",
      "source": [
        "df=df.loc[df.start_date.str.split('-',expand=True)[1].isin(['2015','2016','2017','2018','2019','2020','2021'])]\n",
        "df1=df1.loc[df1.start_date.str.split('-',expand=True)[1].isin(['2015','2016','2017','2018','2019','2020','2021'])]\n",
        "df2=df2.loc[df2.start_date.str.split('-',expand=True)[1].isin(['2015','2016','2017','2018','2019','2020','2021'])]\n",
        "df3=df3.loc[df3.start_date.str.split('-',expand=True)[1].isin(['2015','2016','2017','2018','2019','2020','2021'])]\n"
      ],
      "metadata": {
        "id": "NAzE88S85hwl"
      },
      "execution_count": null,
      "outputs": []
    },
    {
      "cell_type": "code",
      "source": [
        "df=df.reset_index(drop=True)\n",
        "df1=df1.reset_index(drop=True)\n",
        "df2=df2.reset_index(drop=True)\n",
        "df3=df3.reset_index(drop=True)"
      ],
      "metadata": {
        "id": "jsO-kt3C5hzJ"
      },
      "execution_count": null,
      "outputs": []
    },
    {
      "cell_type": "code",
      "source": [
        "df1.drop('region_id',axis=1,inplace=True)\n",
        "df2.drop('region_id',axis=1,inplace=True)\n",
        "df3.drop('region_id',axis=1,inplace=True)\n"
      ],
      "metadata": {
        "id": "7EkIagVL5h11"
      },
      "execution_count": null,
      "outputs": []
    },
    {
      "cell_type": "code",
      "source": [
        "dataset = pd.concat([df,df1['temp'],df2['smos'],df3['ndvi']],axis=1,sort=False)"
      ],
      "metadata": {
        "id": "OMWDzN-_5h4W"
      },
      "execution_count": null,
      "outputs": []
    },
    {
      "cell_type": "code",
      "source": [
        "production_data.index = pd.to_datetime(production_data.start_date)\n",
        "production_data.index=production_data.index.strftime('%m-%Y')\n",
        "production_data.rename(columns = {'index':'start_date'},inplace=True)\n",
        "production_data['start_date']=production_data.index\n",
        "dataset['prod'] = dataset.start_date.map(production_data.set_index('start_date')['prod'].to_dict())\n"
      ],
      "metadata": {
        "id": "VtdvqZks5h6z"
      },
      "execution_count": null,
      "outputs": []
    },
    {
      "cell_type": "code",
      "source": [
        "dataset.fillna(value=dataset['ndvi'].mean(), inplace=True)"
      ],
      "metadata": {
        "id": "8tRRQXQ75h9G"
      },
      "execution_count": null,
      "outputs": []
    },
    {
      "cell_type": "markdown",
      "source": [
        "Obtaining the master dataset whose start_date is on monthly basis and Seperating the dataset on basis of different region ids."
      ],
      "metadata": {
        "id": "WsZ_06516RxW"
      }
    },
    {
      "cell_type": "code",
      "source": [
        "dataset"
      ],
      "metadata": {
        "colab": {
          "base_uri": "https://localhost:8080/",
          "height": 423
        },
        "id": "_lSNntjH5iAs",
        "outputId": "e5f17a71-5bdf-4c11-d087-cab573e1d066"
      },
      "execution_count": null,
      "outputs": [
        {
          "output_type": "execute_result",
          "data": {
            "text/plain": [
              "    start_date  region_id     precip       temp      smos      ndvi  \\\n",
              "0      01-2015         93   4.394452  25.003593  0.318552  0.761228   \n",
              "1      02-2015         93   1.206137  26.807568  0.291452  0.758957   \n",
              "2      03-2015         93   3.454652  26.954109  0.251969  0.752754   \n",
              "3      04-2015         93  10.466472  26.948865  0.248915  0.785057   \n",
              "4      05-2015         93   9.007986  25.405121  0.280602  0.805262   \n",
              "..         ...        ...        ...        ...       ...       ...   \n",
              "835    08-2021        105   7.829626  26.764261  0.267808  0.801862   \n",
              "836    09-2021        105   8.859617  26.673888  0.251307  0.800874   \n",
              "837    10-2021        105   7.305735  26.967615  0.277053  0.800874   \n",
              "838    11-2021        105  16.057218  25.322988  0.397742  0.800874   \n",
              "839    12-2021        105  14.479881  24.857478  0.431531  0.800874   \n",
              "\n",
              "             prod  \n",
              "0    19382.000000  \n",
              "1    17106.000000  \n",
              "2    25482.000000  \n",
              "3    36875.000000  \n",
              "4    45605.000000  \n",
              "..            ...  \n",
              "835      0.800874  \n",
              "836      0.800874  \n",
              "837      0.800874  \n",
              "838      0.800874  \n",
              "839      0.800874  \n",
              "\n",
              "[840 rows x 7 columns]"
            ],
            "text/html": [
              "\n",
              "  <div id=\"df-1b78f4e4-55fc-4321-aac3-ff0597033758\">\n",
              "    <div class=\"colab-df-container\">\n",
              "      <div>\n",
              "<style scoped>\n",
              "    .dataframe tbody tr th:only-of-type {\n",
              "        vertical-align: middle;\n",
              "    }\n",
              "\n",
              "    .dataframe tbody tr th {\n",
              "        vertical-align: top;\n",
              "    }\n",
              "\n",
              "    .dataframe thead th {\n",
              "        text-align: right;\n",
              "    }\n",
              "</style>\n",
              "<table border=\"1\" class=\"dataframe\">\n",
              "  <thead>\n",
              "    <tr style=\"text-align: right;\">\n",
              "      <th></th>\n",
              "      <th>start_date</th>\n",
              "      <th>region_id</th>\n",
              "      <th>precip</th>\n",
              "      <th>temp</th>\n",
              "      <th>smos</th>\n",
              "      <th>ndvi</th>\n",
              "      <th>prod</th>\n",
              "    </tr>\n",
              "  </thead>\n",
              "  <tbody>\n",
              "    <tr>\n",
              "      <th>0</th>\n",
              "      <td>01-2015</td>\n",
              "      <td>93</td>\n",
              "      <td>4.394452</td>\n",
              "      <td>25.003593</td>\n",
              "      <td>0.318552</td>\n",
              "      <td>0.761228</td>\n",
              "      <td>19382.000000</td>\n",
              "    </tr>\n",
              "    <tr>\n",
              "      <th>1</th>\n",
              "      <td>02-2015</td>\n",
              "      <td>93</td>\n",
              "      <td>1.206137</td>\n",
              "      <td>26.807568</td>\n",
              "      <td>0.291452</td>\n",
              "      <td>0.758957</td>\n",
              "      <td>17106.000000</td>\n",
              "    </tr>\n",
              "    <tr>\n",
              "      <th>2</th>\n",
              "      <td>03-2015</td>\n",
              "      <td>93</td>\n",
              "      <td>3.454652</td>\n",
              "      <td>26.954109</td>\n",
              "      <td>0.251969</td>\n",
              "      <td>0.752754</td>\n",
              "      <td>25482.000000</td>\n",
              "    </tr>\n",
              "    <tr>\n",
              "      <th>3</th>\n",
              "      <td>04-2015</td>\n",
              "      <td>93</td>\n",
              "      <td>10.466472</td>\n",
              "      <td>26.948865</td>\n",
              "      <td>0.248915</td>\n",
              "      <td>0.785057</td>\n",
              "      <td>36875.000000</td>\n",
              "    </tr>\n",
              "    <tr>\n",
              "      <th>4</th>\n",
              "      <td>05-2015</td>\n",
              "      <td>93</td>\n",
              "      <td>9.007986</td>\n",
              "      <td>25.405121</td>\n",
              "      <td>0.280602</td>\n",
              "      <td>0.805262</td>\n",
              "      <td>45605.000000</td>\n",
              "    </tr>\n",
              "    <tr>\n",
              "      <th>...</th>\n",
              "      <td>...</td>\n",
              "      <td>...</td>\n",
              "      <td>...</td>\n",
              "      <td>...</td>\n",
              "      <td>...</td>\n",
              "      <td>...</td>\n",
              "      <td>...</td>\n",
              "    </tr>\n",
              "    <tr>\n",
              "      <th>835</th>\n",
              "      <td>08-2021</td>\n",
              "      <td>105</td>\n",
              "      <td>7.829626</td>\n",
              "      <td>26.764261</td>\n",
              "      <td>0.267808</td>\n",
              "      <td>0.801862</td>\n",
              "      <td>0.800874</td>\n",
              "    </tr>\n",
              "    <tr>\n",
              "      <th>836</th>\n",
              "      <td>09-2021</td>\n",
              "      <td>105</td>\n",
              "      <td>8.859617</td>\n",
              "      <td>26.673888</td>\n",
              "      <td>0.251307</td>\n",
              "      <td>0.800874</td>\n",
              "      <td>0.800874</td>\n",
              "    </tr>\n",
              "    <tr>\n",
              "      <th>837</th>\n",
              "      <td>10-2021</td>\n",
              "      <td>105</td>\n",
              "      <td>7.305735</td>\n",
              "      <td>26.967615</td>\n",
              "      <td>0.277053</td>\n",
              "      <td>0.800874</td>\n",
              "      <td>0.800874</td>\n",
              "    </tr>\n",
              "    <tr>\n",
              "      <th>838</th>\n",
              "      <td>11-2021</td>\n",
              "      <td>105</td>\n",
              "      <td>16.057218</td>\n",
              "      <td>25.322988</td>\n",
              "      <td>0.397742</td>\n",
              "      <td>0.800874</td>\n",
              "      <td>0.800874</td>\n",
              "    </tr>\n",
              "    <tr>\n",
              "      <th>839</th>\n",
              "      <td>12-2021</td>\n",
              "      <td>105</td>\n",
              "      <td>14.479881</td>\n",
              "      <td>24.857478</td>\n",
              "      <td>0.431531</td>\n",
              "      <td>0.800874</td>\n",
              "      <td>0.800874</td>\n",
              "    </tr>\n",
              "  </tbody>\n",
              "</table>\n",
              "<p>840 rows × 7 columns</p>\n",
              "</div>\n",
              "      <button class=\"colab-df-convert\" onclick=\"convertToInteractive('df-1b78f4e4-55fc-4321-aac3-ff0597033758')\"\n",
              "              title=\"Convert this dataframe to an interactive table.\"\n",
              "              style=\"display:none;\">\n",
              "        \n",
              "  <svg xmlns=\"http://www.w3.org/2000/svg\" height=\"24px\"viewBox=\"0 0 24 24\"\n",
              "       width=\"24px\">\n",
              "    <path d=\"M0 0h24v24H0V0z\" fill=\"none\"/>\n",
              "    <path d=\"M18.56 5.44l.94 2.06.94-2.06 2.06-.94-2.06-.94-.94-2.06-.94 2.06-2.06.94zm-11 1L8.5 8.5l.94-2.06 2.06-.94-2.06-.94L8.5 2.5l-.94 2.06-2.06.94zm10 10l.94 2.06.94-2.06 2.06-.94-2.06-.94-.94-2.06-.94 2.06-2.06.94z\"/><path d=\"M17.41 7.96l-1.37-1.37c-.4-.4-.92-.59-1.43-.59-.52 0-1.04.2-1.43.59L10.3 9.45l-7.72 7.72c-.78.78-.78 2.05 0 2.83L4 21.41c.39.39.9.59 1.41.59.51 0 1.02-.2 1.41-.59l7.78-7.78 2.81-2.81c.8-.78.8-2.07 0-2.86zM5.41 20L4 18.59l7.72-7.72 1.47 1.35L5.41 20z\"/>\n",
              "  </svg>\n",
              "      </button>\n",
              "      \n",
              "  <style>\n",
              "    .colab-df-container {\n",
              "      display:flex;\n",
              "      flex-wrap:wrap;\n",
              "      gap: 12px;\n",
              "    }\n",
              "\n",
              "    .colab-df-convert {\n",
              "      background-color: #E8F0FE;\n",
              "      border: none;\n",
              "      border-radius: 50%;\n",
              "      cursor: pointer;\n",
              "      display: none;\n",
              "      fill: #1967D2;\n",
              "      height: 32px;\n",
              "      padding: 0 0 0 0;\n",
              "      width: 32px;\n",
              "    }\n",
              "\n",
              "    .colab-df-convert:hover {\n",
              "      background-color: #E2EBFA;\n",
              "      box-shadow: 0px 1px 2px rgba(60, 64, 67, 0.3), 0px 1px 3px 1px rgba(60, 64, 67, 0.15);\n",
              "      fill: #174EA6;\n",
              "    }\n",
              "\n",
              "    [theme=dark] .colab-df-convert {\n",
              "      background-color: #3B4455;\n",
              "      fill: #D2E3FC;\n",
              "    }\n",
              "\n",
              "    [theme=dark] .colab-df-convert:hover {\n",
              "      background-color: #434B5C;\n",
              "      box-shadow: 0px 1px 3px 1px rgba(0, 0, 0, 0.15);\n",
              "      filter: drop-shadow(0px 1px 2px rgba(0, 0, 0, 0.3));\n",
              "      fill: #FFFFFF;\n",
              "    }\n",
              "  </style>\n",
              "\n",
              "      <script>\n",
              "        const buttonEl =\n",
              "          document.querySelector('#df-1b78f4e4-55fc-4321-aac3-ff0597033758 button.colab-df-convert');\n",
              "        buttonEl.style.display =\n",
              "          google.colab.kernel.accessAllowed ? 'block' : 'none';\n",
              "\n",
              "        async function convertToInteractive(key) {\n",
              "          const element = document.querySelector('#df-1b78f4e4-55fc-4321-aac3-ff0597033758');\n",
              "          const dataTable =\n",
              "            await google.colab.kernel.invokeFunction('convertToInteractive',\n",
              "                                                     [key], {});\n",
              "          if (!dataTable) return;\n",
              "\n",
              "          const docLinkHtml = 'Like what you see? Visit the ' +\n",
              "            '<a target=\"_blank\" href=https://colab.research.google.com/notebooks/data_table.ipynb>data table notebook</a>'\n",
              "            + ' to learn more about interactive tables.';\n",
              "          element.innerHTML = '';\n",
              "          dataTable['output_type'] = 'display_data';\n",
              "          await google.colab.output.renderOutput(dataTable, element);\n",
              "          const docLink = document.createElement('div');\n",
              "          docLink.innerHTML = docLinkHtml;\n",
              "          element.appendChild(docLink);\n",
              "        }\n",
              "      </script>\n",
              "    </div>\n",
              "  </div>\n",
              "  "
            ]
          },
          "metadata": {},
          "execution_count": 10
        }
      ]
    },
    {
      "cell_type": "code",
      "source": [
        "d1 = dataset[dataset['region_id'] == 93]\n",
        "d2=dataset[dataset['region_id']==94]\n",
        "d3=dataset[dataset['region_id']==95]\n",
        "d4=dataset[dataset['region_id']==97]\n",
        "d5=dataset[dataset['region_id']==98]\n",
        "d6=dataset[dataset['region_id']==99]\n",
        "d7=dataset[dataset['region_id']==102]\n",
        "d8=dataset[dataset['region_id']==103]\n",
        "d9=dataset[dataset['region_id']==104]\n",
        "d10=dataset[dataset['region_id']==105]\n",
        "\n",
        "\n",
        "\n"
      ],
      "metadata": {
        "id": "bC4k6C3Z6i-Z"
      },
      "execution_count": null,
      "outputs": []
    },
    {
      "cell_type": "markdown",
      "source": [
        "Obtaining the train and test dataset"
      ],
      "metadata": {
        "id": "A4nTtbEk6p4A"
      }
    },
    {
      "cell_type": "code",
      "source": [
        "train=d1.loc[d1.start_date.str.split('-',expand=True)[1].isin(['2015','2016','2017','2018','2019','2020'])]\n",
        "test=d1.loc[d1.start_date.str.split('-',expand=True)[1].isin(['2021'])]"
      ],
      "metadata": {
        "id": "MGFjzgol6j94"
      },
      "execution_count": null,
      "outputs": []
    },
    {
      "cell_type": "markdown",
      "source": [
        "Training the model using XGBoost and calculating the mean absolute error and R2 Score for each region id dataset."
      ],
      "metadata": {
        "id": "zsEhG02K6opX"
      }
    },
    {
      "cell_type": "code",
      "source": [
        "x_train=train.drop(['start_date','prod'],axis=1)\n",
        "y_train=train['prod']\n",
        "x_test=test.drop(['start_date','prod'],axis=1)\n",
        "true_p=test['prod']\n",
        "Ireg = XGBRegressor()\n",
        "Ireg= XGBRegressor(n_estimators=100, max_depth=5, eta=0.1, subsample=0.7, colsample_bytree=0.8)\n",
        "Ireg.fit(x_train,y_train)\n",
        "d1_predict=Ireg.predict(x_test)\n",
        "cv = RepeatedKFold(n_splits=10, n_repeats=3, random_state=1)\n",
        "scores = cross_val_score(Ireg, x_train, y_train, scoring='neg_mean_absolute_error', cv=cv, n_jobs=-1)\n",
        "scores = absolute(scores)\n",
        "#print('Mean MAE: %.3f (%.3f)' % (scores1.mean(), scores1.std()) )\n",
        "#print(sklearn.metrics.r2_score(true_p, d1_predict))\n",
        "Ireg.score(x_test,true_p)\n",
        "Ireg.score(x_train,y_train)"
      ],
      "metadata": {
        "colab": {
          "base_uri": "https://localhost:8080/"
        },
        "id": "i71a93gd67ZA",
        "outputId": "86b1e568-054e-4620-f835-2c259c3e46d5"
      },
      "execution_count": null,
      "outputs": [
        {
          "output_type": "stream",
          "name": "stdout",
          "text": [
            "[23:04:01] WARNING: /workspace/src/objective/regression_obj.cu:152: reg:linear is now deprecated in favor of reg:squarederror.\n"
          ]
        },
        {
          "output_type": "execute_result",
          "data": {
            "text/plain": [
              "0.996818672302953"
            ]
          },
          "metadata": {},
          "execution_count": 13
        }
      ]
    },
    {
      "cell_type": "code",
      "source": [
        "train2=d2.loc[d2.start_date.str.split('-',expand=True)[1].isin(['2015','2016','2017','2018','2019','2020'])]\n",
        "test2=d2.loc[d2.start_date.str.split('-',expand=True)[1].isin(['2021'])]\n",
        "x_train2=train2.drop(['start_date','prod'],axis=1)\n",
        "y_train2=train2['prod']\n",
        "x_test2=test2.drop(['start_date','prod'],axis=1)\n",
        "true_p2=test2['prod']\n",
        "Ireg = XGBRegressor()\n",
        "Ireg= XGBRegressor(n_estimators=100, max_depth=5, eta=0.1, subsample=0.7, colsample_bytree=0.8)\n",
        "Ireg.fit(x_train,y_train)\n",
        "d2_predict=Ireg.predict(x_test)\n",
        "cv = RepeatedKFold(n_splits=10, n_repeats=3, random_state=1)\n",
        "scores2 = cross_val_score(Ireg, x_train2, y_train2, scoring='neg_mean_absolute_error', cv=cv, n_jobs=-1)\n",
        "scores2 = absolute(scores2)\n",
        "#print('Mean MAE: %.3f (%.3f)' % (scores2.mean(), scores2.std()) )\n",
        "#print(sklearn.metrics.r2_score(true_p2, d2_predict))\n",
        "Ireg.score(x_test2,true_p2)\n",
        "Ireg.score(x_train2,y_train2)"
      ],
      "metadata": {
        "colab": {
          "base_uri": "https://localhost:8080/"
        },
        "id": "2hEojR3N67j-",
        "outputId": "2987e174-b576-4488-8996-015e971f6986"
      },
      "execution_count": null,
      "outputs": [
        {
          "output_type": "stream",
          "name": "stdout",
          "text": [
            "[23:04:05] WARNING: /workspace/src/objective/regression_obj.cu:152: reg:linear is now deprecated in favor of reg:squarederror.\n"
          ]
        },
        {
          "output_type": "execute_result",
          "data": {
            "text/plain": [
              "-0.3931717634739924"
            ]
          },
          "metadata": {},
          "execution_count": 14
        }
      ]
    },
    {
      "cell_type": "code",
      "source": [
        "train3=d3.loc[d3.start_date.str.split('-',expand=True)[1].isin(['2015','2016','2017','2018','2019','2020'])]\n",
        "test3=d3.loc[d3.start_date.str.split('-',expand=True)[1].isin(['2021'])]\n",
        "x_train3=train3.drop(['start_date','prod'],axis=1)\n",
        "y_train3=train3['prod']\n",
        "x_test3=test3.drop(['start_date','prod'],axis=1)\n",
        "true_p3=test3['prod']\n",
        "Ireg = XGBRegressor()\n",
        "Ireg= XGBRegressor(n_estimators=100, max_depth=5, eta=0.1, subsample=0.7, colsample_bytree=0.8)\n",
        "Ireg.fit(x_train3,y_train3)\n",
        "d3_predict=Ireg.predict(x_test3)\n",
        "cv = RepeatedKFold(n_splits=10, n_repeats=3, random_state=1)\n",
        "scores3 = cross_val_score(Ireg, x_train3, y_train3, scoring='neg_mean_absolute_error', cv=cv, n_jobs=-1)\n",
        "scores3 = absolute(scores3)\n",
        "#print('Mean MAE: %.3f (%.3f)' % (scores3.mean(), scores3.std()) )\n",
        "#print(sklearn.metrics.r2_score(true_p3, d3_predict))\n",
        "Ireg.fit(x_train3,y_train3)\n",
        "d3_predict=Ireg.predict(x_test3)\n",
        "Ireg.score(x_test3,true_p3)\n",
        "Ireg.score(x_train3,y_train3)"
      ],
      "metadata": {
        "colab": {
          "base_uri": "https://localhost:8080/"
        },
        "id": "D6Z5RHQ17SOY",
        "outputId": "89f6975b-f305-4054-c5e1-d55346673ebc"
      },
      "execution_count": null,
      "outputs": [
        {
          "output_type": "stream",
          "name": "stdout",
          "text": [
            "[23:04:06] WARNING: /workspace/src/objective/regression_obj.cu:152: reg:linear is now deprecated in favor of reg:squarederror.\n",
            "[23:04:07] WARNING: /workspace/src/objective/regression_obj.cu:152: reg:linear is now deprecated in favor of reg:squarederror.\n"
          ]
        },
        {
          "output_type": "execute_result",
          "data": {
            "text/plain": [
              "0.9983862124275773"
            ]
          },
          "metadata": {},
          "execution_count": 15
        }
      ]
    },
    {
      "cell_type": "code",
      "source": [
        "train4=d4.loc[d4.start_date.str.split('-',expand=True)[1].isin(['2015','2016','2017','2018','2019','2020'])]\n",
        "test4=d4.loc[d4.start_date.str.split('-',expand=True)[1].isin(['2021'])]\n",
        "x_train4=train4.drop(['start_date','prod'],axis=1)\n",
        "y_train4=train4['prod']\n",
        "x_test4=test4.drop(['start_date','prod'],axis=1)\n",
        "true_p4=test4['prod']\n",
        "Ireg = XGBRegressor()\n",
        "Ireg= XGBRegressor(n_estimators=100, max_depth=5, eta=0.1, subsample=0.7, colsample_bytree=0.8)\n",
        "Ireg.fit(x_train4,y_train4)\n",
        "d4_predict=Ireg.predict(x_test4)\n",
        "cv = RepeatedKFold(n_splits=10, n_repeats=3, random_state=1)\n",
        "scores4 = cross_val_score(Ireg, x_train4, y_train4, scoring='neg_mean_absolute_error', cv=cv, n_jobs=-1)\n",
        "scores4 = absolute(scores4)\n",
        "#print('Mean MAE: %.3f (%.3f)' % (scores4.mean(), scores4.std()) )\n",
        "#print(sklearn.metrics.r2_score(true_p4, d4_predict))\n",
        "Ireg.fit(x_train4,y_train4)\n",
        "d4_predict=Ireg.predict(x_test4)\n",
        "Ireg.score(x_test4,true_p4)\n",
        "Ireg.score(x_train4,y_train4)"
      ],
      "metadata": {
        "colab": {
          "base_uri": "https://localhost:8080/"
        },
        "id": "SWlnkga47SQ_",
        "outputId": "72d812d3-5c9e-42bc-b785-363e5201a7b7"
      },
      "execution_count": null,
      "outputs": [
        {
          "output_type": "stream",
          "name": "stdout",
          "text": [
            "[23:04:07] WARNING: /workspace/src/objective/regression_obj.cu:152: reg:linear is now deprecated in favor of reg:squarederror.\n",
            "[23:04:08] WARNING: /workspace/src/objective/regression_obj.cu:152: reg:linear is now deprecated in favor of reg:squarederror.\n"
          ]
        },
        {
          "output_type": "execute_result",
          "data": {
            "text/plain": [
              "0.990697508789039"
            ]
          },
          "metadata": {},
          "execution_count": 16
        }
      ]
    },
    {
      "cell_type": "code",
      "source": [
        "train5=d5.loc[d5.start_date.str.split('-',expand=True)[1].isin(['2015','2016','2017','2018','2019','2020'])]\n",
        "test5=d5.loc[d5.start_date.str.split('-',expand=True)[1].isin(['2021'])]\n",
        "x_train5=train5.drop(['start_date','prod'],axis=1)\n",
        "y_train5=train5['prod']\n",
        "x_test5=test5.drop(['start_date','prod'],axis=1)\n",
        "true_p5=test5['prod']\n",
        "Ireg = XGBRegressor()\n",
        "Ireg= XGBRegressor(n_estimators=100, max_depth=5, eta=0.1, subsample=0.7, colsample_bytree=0.8)\n",
        "Ireg.fit(x_train5,y_train5)\n",
        "d5_predict=Ireg.predict(x_test5)\n",
        "cv = RepeatedKFold(n_splits=10, n_repeats=3, random_state=1)\n",
        "scores5 = cross_val_score(Ireg, x_train5, y_train5, scoring='neg_mean_absolute_error', cv=cv, n_jobs=-1)\n",
        "scores5 = absolute(scores5)\n",
        "#print('Mean MAE: %.3f (%.3f)' % (scores5.mean(), scores5.std()) )\n",
        "#print(sklearn.metrics.r2_score(true_p5, d5_predict))\n",
        "Ireg.fit(x_train5,y_train5)\n",
        "d5_predict=Ireg.predict(x_test5)\n",
        "Ireg.score(x_test5,true_p5)\n",
        "Ireg.score(x_train5,y_train5)"
      ],
      "metadata": {
        "colab": {
          "base_uri": "https://localhost:8080/"
        },
        "id": "M-xsXWhK7STU",
        "outputId": "c8d22317-66a5-4bde-c7be-a744ac0bd170"
      },
      "execution_count": null,
      "outputs": [
        {
          "output_type": "stream",
          "name": "stdout",
          "text": [
            "[23:04:08] WARNING: /workspace/src/objective/regression_obj.cu:152: reg:linear is now deprecated in favor of reg:squarederror.\n",
            "[23:04:09] WARNING: /workspace/src/objective/regression_obj.cu:152: reg:linear is now deprecated in favor of reg:squarederror.\n"
          ]
        },
        {
          "output_type": "execute_result",
          "data": {
            "text/plain": [
              "0.9982674158319049"
            ]
          },
          "metadata": {},
          "execution_count": 17
        }
      ]
    },
    {
      "cell_type": "code",
      "source": [
        "train6=d6.loc[d6.start_date.str.split('-',expand=True)[1].isin(['2015','2016','2017','2018','2019','2020'])]\n",
        "test6=d6.loc[d6.start_date.str.split('-',expand=True)[1].isin(['2021'])]\n",
        "x_train6=train6.drop(['start_date','prod'],axis=1)\n",
        "y_train6=train6['prod']\n",
        "x_test6=test6.drop(['start_date','prod'],axis=1)\n",
        "true_p6=test6['prod']\n",
        "Ireg = XGBRegressor()\n",
        "Ireg= XGBRegressor(n_estimators=100, max_depth=5, eta=0.1, subsample=0.7, colsample_bytree=0.8)\n",
        "Ireg.fit(x_train6,y_train6)\n",
        "d6_predict=Ireg.predict(x_test6)\n",
        "cv = RepeatedKFold(n_splits=10, n_repeats=3, random_state=1)\n",
        "scores6 = cross_val_score(Ireg, x_train6, y_train6, scoring='neg_mean_absolute_error', cv=cv, n_jobs=-1)\n",
        "scores6 = absolute(scores6)\n",
        "#print('Mean MAE: %.3f (%.3f)' % (scores6.mean(), scores6.std()) )\n",
        "#print(sklearn.metrics.r2_score(true_p6, d6_predict))\n",
        "Ireg.fit(x_train6,y_train6)\n",
        "d6_predict=Ireg.predict(x_test6)\n",
        "Ireg.score(x_test6,true_p6)\n",
        "Ireg.score(x_train6,y_train6)"
      ],
      "metadata": {
        "colab": {
          "base_uri": "https://localhost:8080/"
        },
        "id": "7L1wgoWY7SWM",
        "outputId": "b37af799-76aa-473c-f2b8-99ce6ef37306"
      },
      "execution_count": null,
      "outputs": [
        {
          "output_type": "stream",
          "name": "stdout",
          "text": [
            "[23:04:09] WARNING: /workspace/src/objective/regression_obj.cu:152: reg:linear is now deprecated in favor of reg:squarederror.\n",
            "[23:04:10] WARNING: /workspace/src/objective/regression_obj.cu:152: reg:linear is now deprecated in favor of reg:squarederror.\n"
          ]
        },
        {
          "output_type": "execute_result",
          "data": {
            "text/plain": [
              "0.9946471745589104"
            ]
          },
          "metadata": {},
          "execution_count": 18
        }
      ]
    },
    {
      "cell_type": "code",
      "source": [
        "train7=d7.loc[d7.start_date.str.split('-',expand=True)[1].isin(['2015','2016','2017','2018','2019','2020'])]\n",
        "test7=d7.loc[d7.start_date.str.split('-',expand=True)[1].isin(['2021'])]\n",
        "x_train7=train7.drop(['start_date','prod'],axis=1)\n",
        "y_train7=train7['prod']\n",
        "x_test7=test7.drop(['start_date','prod'],axis=1)\n",
        "true_p7=test7['prod']\n",
        "Ireg = XGBRegressor()\n",
        "Ireg= XGBRegressor(n_estimators=100, max_depth=5, eta=0.1, subsample=0.7, colsample_bytree=0.8)\n",
        "Ireg.fit(x_train7,y_train7)\n",
        "d7_predict=Ireg.predict(x_test7)\n",
        "cv = RepeatedKFold(n_splits=10, n_repeats=3, random_state=1)\n",
        "scores7 = cross_val_score(Ireg, x_train7, y_train7, scoring='neg_mean_absolute_error', cv=cv, n_jobs=-1)\n",
        "scores7 = absolute(scores7)\n",
        "#print('Mean MAE: %.3f (%.3f)' % (scores7.mean(), scores7.std()) )\n",
        "#print(sklearn.metrics.r2_score(true_p7, d7_predict))\n",
        "Ireg.fit(x_train7,y_train7)\n",
        "d7_predict=Ireg.predict(x_test7)\n",
        "Ireg.score(x_test7,true_p7)\n",
        "Ireg.score(x_train7,y_train7)"
      ],
      "metadata": {
        "colab": {
          "base_uri": "https://localhost:8080/"
        },
        "id": "S9W32zz17cfi",
        "outputId": "f62146a4-0a4b-45cf-9bd7-913e1e8bbdcd"
      },
      "execution_count": null,
      "outputs": [
        {
          "output_type": "stream",
          "name": "stdout",
          "text": [
            "[23:04:11] WARNING: /workspace/src/objective/regression_obj.cu:152: reg:linear is now deprecated in favor of reg:squarederror.\n",
            "[23:04:12] WARNING: /workspace/src/objective/regression_obj.cu:152: reg:linear is now deprecated in favor of reg:squarederror.\n"
          ]
        },
        {
          "output_type": "execute_result",
          "data": {
            "text/plain": [
              "0.9937506377849745"
            ]
          },
          "metadata": {},
          "execution_count": 19
        }
      ]
    },
    {
      "cell_type": "code",
      "source": [
        "train8=d8.loc[d8.start_date.str.split('-',expand=True)[1].isin(['2015','2016','2017','2018','2019','2020'])]\n",
        "test8=d8.loc[d8.start_date.str.split('-',expand=True)[1].isin(['2021'])]\n",
        "x_train8=train8.drop(['start_date','prod'],axis=1)\n",
        "y_train8=train8['prod']\n",
        "x_test8=test8.drop(['start_date','prod'],axis=1)\n",
        "true_p8=test8['prod']\n",
        "Ireg = XGBRegressor()\n",
        "Ireg= XGBRegressor(n_estimators=100, max_depth=5, eta=0.1, subsample=0.7, colsample_bytree=0.8)\n",
        "Ireg.fit(x_train8,y_train8)\n",
        "d8_predict=Ireg.predict(x_test8)\n",
        "cv = RepeatedKFold(n_splits=10, n_repeats=3, random_state=1)\n",
        "scores8 = cross_val_score(Ireg, x_train8, y_train8, scoring='neg_mean_absolute_error', cv=cv, n_jobs=-1)\n",
        "scores8 = absolute(scores8)\n",
        "#print('Mean MAE: %.3f (%.3f)' % (scores8.mean(), scores8.std()) )\n",
        "#print(sklearn.metrics.r2_score(true_p8, d8_predict))\n",
        "Ireg.fit(x_train8,y_train8)\n",
        "d8_predict=Ireg.predict(x_test8)\n",
        "Ireg.score(x_test8,true_p8)\n",
        "Ireg.score(x_train8,y_train8)"
      ],
      "metadata": {
        "colab": {
          "base_uri": "https://localhost:8080/"
        },
        "id": "zWz5ZnA67SYP",
        "outputId": "ac77166e-bb28-4f45-e2cc-c8c531dd418c"
      },
      "execution_count": null,
      "outputs": [
        {
          "output_type": "stream",
          "name": "stdout",
          "text": [
            "[23:04:12] WARNING: /workspace/src/objective/regression_obj.cu:152: reg:linear is now deprecated in favor of reg:squarederror.\n",
            "[23:04:13] WARNING: /workspace/src/objective/regression_obj.cu:152: reg:linear is now deprecated in favor of reg:squarederror.\n"
          ]
        },
        {
          "output_type": "execute_result",
          "data": {
            "text/plain": [
              "0.9968526410077039"
            ]
          },
          "metadata": {},
          "execution_count": 20
        }
      ]
    },
    {
      "cell_type": "code",
      "source": [
        "train9=d9.loc[d9.start_date.str.split('-',expand=True)[1].isin(['2015','2016','2017','2018','2019','2020'])]\n",
        "test9=d9.loc[d9.start_date.str.split('-',expand=True)[1].isin(['2021'])]\n",
        "x_train9=train9.drop(['start_date','prod'],axis=1)\n",
        "y_train9=train9['prod']\n",
        "x_test9=test9.drop(['start_date','prod'],axis=1)\n",
        "true_p9=test9['prod']\n",
        "Ireg = XGBRegressor()\n",
        "Ireg= XGBRegressor(n_estimators=100, max_depth=5, eta=0.1, subsample=0.7, colsample_bytree=0.8)\n",
        "Ireg.fit(x_train9,y_train9)\n",
        "d9_predict=Ireg.predict(x_test9)\n",
        "cv = RepeatedKFold(n_splits=10, n_repeats=3, random_state=1)\n",
        "scores9 = cross_val_score(Ireg, x_train9, y_train9, scoring='neg_mean_absolute_error', cv=cv, n_jobs=-1)\n",
        "scores9 = absolute(scores9)\n",
        "#print('Mean MAE: %.3f (%.3f)' % (scores9.mean(), scores9.std()) )\n",
        "#print(sklearn.metrics.r2_score(true_p9, d1_predict9))\n",
        "Ireg.fit(x_train9,y_train9)\n",
        "d9_predict=Ireg.predict(x_test9)\n",
        "Ireg.score(x_test9,true_p9)\n",
        "Ireg.score(x_train9,y_train9)"
      ],
      "metadata": {
        "colab": {
          "base_uri": "https://localhost:8080/"
        },
        "id": "e_esJlC17Sbp",
        "outputId": "ec7bd026-785c-403a-c38b-719065c9d8a9"
      },
      "execution_count": null,
      "outputs": [
        {
          "output_type": "stream",
          "name": "stdout",
          "text": [
            "[23:04:13] WARNING: /workspace/src/objective/regression_obj.cu:152: reg:linear is now deprecated in favor of reg:squarederror.\n",
            "[23:04:14] WARNING: /workspace/src/objective/regression_obj.cu:152: reg:linear is now deprecated in favor of reg:squarederror.\n"
          ]
        },
        {
          "output_type": "execute_result",
          "data": {
            "text/plain": [
              "0.994981305468572"
            ]
          },
          "metadata": {},
          "execution_count": 21
        }
      ]
    },
    {
      "cell_type": "code",
      "source": [
        "train10=d10.loc[d10.start_date.str.split('-',expand=True)[1].isin(['2015','2016','2017','2018','2019','2020'])]\n",
        "test10=d10.loc[d10.start_date.str.split('-',expand=True)[1].isin(['2021'])]\n",
        "x_train10=train10.drop(['start_date','prod'],axis=1)\n",
        "y_train10=train10['prod']\n",
        "x_test10=test10.drop(['start_date','prod'],axis=1)\n",
        "true_p10=test10['prod']\n",
        "Ireg = XGBRegressor()\n",
        "Ireg= XGBRegressor(n_estimators=100, max_depth=5, eta=0.1, subsample=0.7, colsample_bytree=0.8)\n",
        "Ireg.fit(x_train10,y_train10)\n",
        "d10_predict=Ireg.predict(x_test10)\n",
        "cv = RepeatedKFold(n_splits=10, n_repeats=3, random_state=1)\n",
        "scores10 = cross_val_score(Ireg, x_train10, y_train10, scoring='neg_mean_absolute_error', cv=cv, n_jobs=-1)\n",
        "scores10 = absolute(scores10)\n",
        "#print('Mean MAE: %.3f (%.3f)' % (scores10.mean(), scores10.std()) )\n",
        "#print(sklearn.metrics.r2_score(true_p10, d10_predict))\n",
        "Ireg.fit(x_train10,y_train10)\n",
        "d10_predict=Ireg.predict(x_test10)\n",
        "Ireg.score(x_test10,true_p10)\n",
        "Ireg.score(x_train10,y_train10)"
      ],
      "metadata": {
        "colab": {
          "base_uri": "https://localhost:8080/"
        },
        "id": "zGEr49fr67mY",
        "outputId": "5f84df93-2320-4dc2-b2dc-fe88d6d40f34"
      },
      "execution_count": null,
      "outputs": [
        {
          "output_type": "stream",
          "name": "stdout",
          "text": [
            "[23:04:14] WARNING: /workspace/src/objective/regression_obj.cu:152: reg:linear is now deprecated in favor of reg:squarederror.\n",
            "[23:04:15] WARNING: /workspace/src/objective/regression_obj.cu:152: reg:linear is now deprecated in favor of reg:squarederror.\n"
          ]
        },
        {
          "output_type": "execute_result",
          "data": {
            "text/plain": [
              "0.9976531782519825"
            ]
          },
          "metadata": {},
          "execution_count": 22
        }
      ]
    },
    {
      "cell_type": "code",
      "source": [
        "x_test_final=test\n",
        "x_test_final.drop(['start_date','prod'],axis=1,inplace=True)\n",
        "prediction_final=Ireg.predict(x_test_final)"
      ],
      "metadata": {
        "colab": {
          "base_uri": "https://localhost:8080/"
        },
        "id": "mdbJvqOK67p9",
        "outputId": "ed284ef6-fd5c-4944-98df-d03061e1e59a"
      },
      "execution_count": null,
      "outputs": [
        {
          "output_type": "stream",
          "name": "stderr",
          "text": [
            "/usr/local/lib/python3.7/dist-packages/pandas/core/frame.py:4913: SettingWithCopyWarning: \n",
            "A value is trying to be set on a copy of a slice from a DataFrame\n",
            "\n",
            "See the caveats in the documentation: https://pandas.pydata.org/pandas-docs/stable/user_guide/indexing.html#returning-a-view-versus-a-copy\n",
            "  errors=errors,\n"
          ]
        }
      ]
    },
    {
      "cell_type": "code",
      "source": [
        "x_test_final2=test2\n",
        "test2.drop(['start_date','prod'],axis=1,inplace=True)\n",
        "prediction_final2=Ireg.predict(x_test_final2)"
      ],
      "metadata": {
        "colab": {
          "base_uri": "https://localhost:8080/"
        },
        "id": "Dtkr1Fjw7yid",
        "outputId": "ae8e56c8-7aa4-452b-eca0-5b71d8280034"
      },
      "execution_count": null,
      "outputs": [
        {
          "output_type": "stream",
          "name": "stderr",
          "text": [
            "/usr/local/lib/python3.7/dist-packages/pandas/core/frame.py:4913: SettingWithCopyWarning: \n",
            "A value is trying to be set on a copy of a slice from a DataFrame\n",
            "\n",
            "See the caveats in the documentation: https://pandas.pydata.org/pandas-docs/stable/user_guide/indexing.html#returning-a-view-versus-a-copy\n",
            "  errors=errors,\n"
          ]
        }
      ]
    },
    {
      "cell_type": "code",
      "source": [
        "x_test_final3=test3\n",
        "x_test_final3.drop(['start_date','prod'],axis=1,inplace=True)\n",
        "prediction_final3=Ireg.predict(x_test_final3)\n"
      ],
      "metadata": {
        "colab": {
          "base_uri": "https://localhost:8080/"
        },
        "id": "W5YkeMbn72G7",
        "outputId": "912c2fce-3d43-47fd-d235-0cc365212268"
      },
      "execution_count": null,
      "outputs": [
        {
          "output_type": "stream",
          "name": "stderr",
          "text": [
            "/usr/local/lib/python3.7/dist-packages/pandas/core/frame.py:4913: SettingWithCopyWarning: \n",
            "A value is trying to be set on a copy of a slice from a DataFrame\n",
            "\n",
            "See the caveats in the documentation: https://pandas.pydata.org/pandas-docs/stable/user_guide/indexing.html#returning-a-view-versus-a-copy\n",
            "  errors=errors,\n"
          ]
        }
      ]
    },
    {
      "cell_type": "code",
      "source": [
        "x_test_final4=test4\n",
        "x_test_final4.drop(['start_date','prod'],axis=1,inplace=True)\n",
        "prediction_final4=Ireg.predict(x_test_final4)\n"
      ],
      "metadata": {
        "colab": {
          "base_uri": "https://localhost:8080/"
        },
        "id": "hPL2NLZt72JW",
        "outputId": "68960faf-1d2b-4cb6-a75e-c466a3dc505b"
      },
      "execution_count": null,
      "outputs": [
        {
          "output_type": "stream",
          "name": "stderr",
          "text": [
            "/usr/local/lib/python3.7/dist-packages/pandas/core/frame.py:4913: SettingWithCopyWarning: \n",
            "A value is trying to be set on a copy of a slice from a DataFrame\n",
            "\n",
            "See the caveats in the documentation: https://pandas.pydata.org/pandas-docs/stable/user_guide/indexing.html#returning-a-view-versus-a-copy\n",
            "  errors=errors,\n"
          ]
        }
      ]
    },
    {
      "cell_type": "code",
      "source": [
        "x_test_final5=test5\n",
        "x_test_final5.drop(['start_date','prod'],axis=1,inplace=True)\n",
        "prediction_final5=Ireg.predict(x_test_final5)"
      ],
      "metadata": {
        "colab": {
          "base_uri": "https://localhost:8080/"
        },
        "id": "kRP7tslV72Lt",
        "outputId": "45312e8f-4364-4dfb-a216-708f665549d3"
      },
      "execution_count": null,
      "outputs": [
        {
          "output_type": "stream",
          "name": "stderr",
          "text": [
            "/usr/local/lib/python3.7/dist-packages/pandas/core/frame.py:4913: SettingWithCopyWarning: \n",
            "A value is trying to be set on a copy of a slice from a DataFrame\n",
            "\n",
            "See the caveats in the documentation: https://pandas.pydata.org/pandas-docs/stable/user_guide/indexing.html#returning-a-view-versus-a-copy\n",
            "  errors=errors,\n"
          ]
        }
      ]
    },
    {
      "cell_type": "code",
      "source": [
        "x_test_final6=test6\n",
        "x_test_final6.drop(['start_date','prod'],axis=1,inplace=True)\n",
        "prediction_final6=Ireg.predict(x_test_final6)"
      ],
      "metadata": {
        "colab": {
          "base_uri": "https://localhost:8080/"
        },
        "id": "R2e0LyPS72PL",
        "outputId": "1bc6773e-c437-4a22-cf2e-81eaf8935781"
      },
      "execution_count": null,
      "outputs": [
        {
          "output_type": "stream",
          "name": "stderr",
          "text": [
            "/usr/local/lib/python3.7/dist-packages/pandas/core/frame.py:4913: SettingWithCopyWarning: \n",
            "A value is trying to be set on a copy of a slice from a DataFrame\n",
            "\n",
            "See the caveats in the documentation: https://pandas.pydata.org/pandas-docs/stable/user_guide/indexing.html#returning-a-view-versus-a-copy\n",
            "  errors=errors,\n"
          ]
        }
      ]
    },
    {
      "cell_type": "code",
      "source": [
        "x_test_final7=test7\n",
        "x_test_final7.drop(['start_date','prod'],axis=1,inplace=True)\n",
        "prediction_final7=Ireg.predict(x_test_final7)"
      ],
      "metadata": {
        "colab": {
          "base_uri": "https://localhost:8080/"
        },
        "id": "eOK1XQ0o72YY",
        "outputId": "dc1ca7bf-02bf-4b35-9d80-a6e2d064249c"
      },
      "execution_count": null,
      "outputs": [
        {
          "output_type": "stream",
          "name": "stderr",
          "text": [
            "/usr/local/lib/python3.7/dist-packages/pandas/core/frame.py:4913: SettingWithCopyWarning: \n",
            "A value is trying to be set on a copy of a slice from a DataFrame\n",
            "\n",
            "See the caveats in the documentation: https://pandas.pydata.org/pandas-docs/stable/user_guide/indexing.html#returning-a-view-versus-a-copy\n",
            "  errors=errors,\n"
          ]
        }
      ]
    },
    {
      "cell_type": "code",
      "source": [
        "x_test_final8=test8\n",
        "x_test_final8.drop(['start_date','prod'],axis=1,inplace=True)\n",
        "prediction_final8=Ireg.predict(x_test_final8)"
      ],
      "metadata": {
        "colab": {
          "base_uri": "https://localhost:8080/"
        },
        "id": "NyvzxUNK72bv",
        "outputId": "2b168de8-ec4c-432c-ddbb-a74436f1abd6"
      },
      "execution_count": null,
      "outputs": [
        {
          "output_type": "stream",
          "name": "stderr",
          "text": [
            "/usr/local/lib/python3.7/dist-packages/pandas/core/frame.py:4913: SettingWithCopyWarning: \n",
            "A value is trying to be set on a copy of a slice from a DataFrame\n",
            "\n",
            "See the caveats in the documentation: https://pandas.pydata.org/pandas-docs/stable/user_guide/indexing.html#returning-a-view-versus-a-copy\n",
            "  errors=errors,\n"
          ]
        }
      ]
    },
    {
      "cell_type": "code",
      "source": [
        "x_test_final9=test9\n",
        "x_test_final9.drop(['start_date','prod'],axis=1,inplace=True)\n",
        "prediction_final9=Ireg.predict(x_test_final9)"
      ],
      "metadata": {
        "colab": {
          "base_uri": "https://localhost:8080/"
        },
        "id": "9YWnTwQf8FmR",
        "outputId": "bee53d7a-1188-44ca-b39d-57b3e14b424a"
      },
      "execution_count": null,
      "outputs": [
        {
          "output_type": "stream",
          "name": "stderr",
          "text": [
            "/usr/local/lib/python3.7/dist-packages/pandas/core/frame.py:4913: SettingWithCopyWarning: \n",
            "A value is trying to be set on a copy of a slice from a DataFrame\n",
            "\n",
            "See the caveats in the documentation: https://pandas.pydata.org/pandas-docs/stable/user_guide/indexing.html#returning-a-view-versus-a-copy\n",
            "  errors=errors,\n"
          ]
        }
      ]
    },
    {
      "cell_type": "code",
      "source": [
        "x_test_final10=test10\n",
        "x_test_final10.drop(['start_date','prod'],axis=1,inplace=True)\n",
        "prediction_final10=Ireg.predict(x_test_final10)"
      ],
      "metadata": {
        "colab": {
          "base_uri": "https://localhost:8080/"
        },
        "id": "qEbMcKPT8Fs-",
        "outputId": "d2a599fe-2141-41d8-b61e-a7e00532e196"
      },
      "execution_count": null,
      "outputs": [
        {
          "output_type": "stream",
          "name": "stderr",
          "text": [
            "/usr/local/lib/python3.7/dist-packages/pandas/core/frame.py:4913: SettingWithCopyWarning: \n",
            "A value is trying to be set on a copy of a slice from a DataFrame\n",
            "\n",
            "See the caveats in the documentation: https://pandas.pydata.org/pandas-docs/stable/user_guide/indexing.html#returning-a-view-versus-a-copy\n",
            "  errors=errors,\n"
          ]
        }
      ]
    },
    {
      "cell_type": "code",
      "source": [
        "pred_df1=pd.DataFrame(prediction_final)\n",
        "pred_df2=pd.DataFrame(prediction_final2)\n",
        "pred_df3=pd.DataFrame(prediction_final3)\n",
        "pred_df4=pd.DataFrame(prediction_final4)\n",
        "pred_df5=pd.DataFrame(prediction_final5)\n",
        "pred_df6=pd.DataFrame(prediction_final6)\n",
        "pred_df7=pd.DataFrame(prediction_final7)\n",
        "pred_df8=pd.DataFrame(prediction_final8)\n",
        "pred_df9=pd.DataFrame(prediction_final9)\n",
        "pred_df10=pd.DataFrame(prediction_final10)\n"
      ],
      "metadata": {
        "id": "JfndufZ-8M_y"
      },
      "execution_count": null,
      "outputs": []
    },
    {
      "cell_type": "code",
      "source": [
        "frames = [pred_df1, pred_df2, pred_df3,pred_df4,pred_df5,pred_df6,pred_df7,pred_df8,pred_df9,pred_df10]\n",
        "result = pd.concat(frames)"
      ],
      "metadata": {
        "id": "k-6Cm2kZ8NDM"
      },
      "execution_count": null,
      "outputs": []
    },
    {
      "cell_type": "code",
      "source": [
        "results=pd.DataFrame(result)"
      ],
      "metadata": {
        "id": "4F3rLNzh8gVp"
      },
      "execution_count": null,
      "outputs": []
    },
    {
      "cell_type": "code",
      "source": [
        "sa=pd.read_csv('/content/sample_data/predicted_production_qty.csv')\n",
        "sa.drop('prod',axis=1,inplace=True)"
      ],
      "metadata": {
        "id": "srh9e5r68hMn"
      },
      "execution_count": null,
      "outputs": []
    },
    {
      "cell_type": "code",
      "source": [
        "final_dataframe=sa.join(result, lsuffix=\"_left\", rsuffix=\"_right\")"
      ],
      "metadata": {
        "id": "eMO6WUuE8hQM"
      },
      "execution_count": null,
      "outputs": []
    },
    {
      "cell_type": "code",
      "source": [
        "final_dataframe.fillna(value=dataset['prod'].mean(), inplace=True)"
      ],
      "metadata": {
        "id": "Ad4Oz4sD8qb0"
      },
      "execution_count": null,
      "outputs": []
    },
    {
      "cell_type": "code",
      "source": [
        "columns=df.columns.tolist()"
      ],
      "metadata": {
        "id": "Tritg2B38qtj"
      },
      "execution_count": null,
      "outputs": []
    },
    {
      "cell_type": "code",
      "source": [
        "new_cols=['start_date','end_date','region_id','prod']"
      ],
      "metadata": {
        "id": "jFdC_Dpc-VvL"
      },
      "execution_count": null,
      "outputs": []
    },
    {
      "cell_type": "code",
      "source": [
        "final_dataframe.columns = new_cols"
      ],
      "metadata": {
        "id": "r--Znaag8q8P"
      },
      "execution_count": null,
      "outputs": []
    },
    {
      "cell_type": "code",
      "source": [
        "final_dataframe = final_dataframe[['start_date','end_date','prod','region_id']]"
      ],
      "metadata": {
        "id": "IOfJ-2rq80Aj"
      },
      "execution_count": null,
      "outputs": []
    },
    {
      "cell_type": "code",
      "source": [
        "final_dataframe.reset_index(inplace=True)"
      ],
      "metadata": {
        "id": "S7uBOqha820V"
      },
      "execution_count": null,
      "outputs": []
    },
    {
      "cell_type": "code",
      "source": [
        "final_dataframe.drop('index',axis=1,inplace=True)"
      ],
      "metadata": {
        "id": "NMsJkOUi826v"
      },
      "execution_count": null,
      "outputs": []
    },
    {
      "cell_type": "code",
      "source": [
        "final_dataframe = final_dataframe.apply(lambda x: x.astype(str).str.lower()).drop_duplicates(subset=['start_date', 'region_id'], keep='first')"
      ],
      "metadata": {
        "id": "XJigfQXCJSVx"
      },
      "execution_count": null,
      "outputs": []
    },
    {
      "cell_type": "code",
      "source": [
        "final_dataframe"
      ],
      "metadata": {
        "colab": {
          "base_uri": "https://localhost:8080/",
          "height": 423
        },
        "id": "ThqodNHyJmdY",
        "outputId": "e0f04e5a-1bbb-4e51-97f2-bc04d2e84727"
      },
      "execution_count": null,
      "outputs": [
        {
          "output_type": "execute_result",
          "data": {
            "text/plain": [
              "                   start_date                  end_date       prod region_id\n",
              "0    2021-01-01t00:00:00.000z  2021-01-31t00:00:00.000z  41250.676        93\n",
              "10   2021-02-01t00:00:00.000z  2021-02-28t00:00:00.000z  32383.746        93\n",
              "20   2021-03-01t00:00:00.000z  2021-03-31t00:00:00.000z  55942.273        93\n",
              "30   2021-04-01t00:00:00.000z  2021-04-30t00:00:00.000z  48840.625        93\n",
              "40   2021-05-01t00:00:00.000z  2021-05-31t00:00:00.000z  49447.395        93\n",
              "..                        ...                       ...        ...       ...\n",
              "223  2021-08-01t00:00:00.000z  2021-08-31t00:00:00.000z   35967.28       105\n",
              "224  2021-09-01t00:00:00.000z  2021-09-30t00:00:00.000z   35967.28       105\n",
              "225  2021-10-01t00:00:00.000z  2021-10-31t00:00:00.000z   35967.28       105\n",
              "226  2021-11-01t00:00:00.000z  2021-11-30t00:00:00.000z   35967.28       105\n",
              "227  2021-12-01t00:00:00.000z  2021-12-31t00:00:00.000z   35967.28       105\n",
              "\n",
              "[120 rows x 4 columns]"
            ],
            "text/html": [
              "\n",
              "  <div id=\"df-8a2945be-92a7-404e-b8c5-e5431e8676bf\">\n",
              "    <div class=\"colab-df-container\">\n",
              "      <div>\n",
              "<style scoped>\n",
              "    .dataframe tbody tr th:only-of-type {\n",
              "        vertical-align: middle;\n",
              "    }\n",
              "\n",
              "    .dataframe tbody tr th {\n",
              "        vertical-align: top;\n",
              "    }\n",
              "\n",
              "    .dataframe thead th {\n",
              "        text-align: right;\n",
              "    }\n",
              "</style>\n",
              "<table border=\"1\" class=\"dataframe\">\n",
              "  <thead>\n",
              "    <tr style=\"text-align: right;\">\n",
              "      <th></th>\n",
              "      <th>start_date</th>\n",
              "      <th>end_date</th>\n",
              "      <th>prod</th>\n",
              "      <th>region_id</th>\n",
              "    </tr>\n",
              "  </thead>\n",
              "  <tbody>\n",
              "    <tr>\n",
              "      <th>0</th>\n",
              "      <td>2021-01-01t00:00:00.000z</td>\n",
              "      <td>2021-01-31t00:00:00.000z</td>\n",
              "      <td>41250.676</td>\n",
              "      <td>93</td>\n",
              "    </tr>\n",
              "    <tr>\n",
              "      <th>10</th>\n",
              "      <td>2021-02-01t00:00:00.000z</td>\n",
              "      <td>2021-02-28t00:00:00.000z</td>\n",
              "      <td>32383.746</td>\n",
              "      <td>93</td>\n",
              "    </tr>\n",
              "    <tr>\n",
              "      <th>20</th>\n",
              "      <td>2021-03-01t00:00:00.000z</td>\n",
              "      <td>2021-03-31t00:00:00.000z</td>\n",
              "      <td>55942.273</td>\n",
              "      <td>93</td>\n",
              "    </tr>\n",
              "    <tr>\n",
              "      <th>30</th>\n",
              "      <td>2021-04-01t00:00:00.000z</td>\n",
              "      <td>2021-04-30t00:00:00.000z</td>\n",
              "      <td>48840.625</td>\n",
              "      <td>93</td>\n",
              "    </tr>\n",
              "    <tr>\n",
              "      <th>40</th>\n",
              "      <td>2021-05-01t00:00:00.000z</td>\n",
              "      <td>2021-05-31t00:00:00.000z</td>\n",
              "      <td>49447.395</td>\n",
              "      <td>93</td>\n",
              "    </tr>\n",
              "    <tr>\n",
              "      <th>...</th>\n",
              "      <td>...</td>\n",
              "      <td>...</td>\n",
              "      <td>...</td>\n",
              "      <td>...</td>\n",
              "    </tr>\n",
              "    <tr>\n",
              "      <th>223</th>\n",
              "      <td>2021-08-01t00:00:00.000z</td>\n",
              "      <td>2021-08-31t00:00:00.000z</td>\n",
              "      <td>35967.28</td>\n",
              "      <td>105</td>\n",
              "    </tr>\n",
              "    <tr>\n",
              "      <th>224</th>\n",
              "      <td>2021-09-01t00:00:00.000z</td>\n",
              "      <td>2021-09-30t00:00:00.000z</td>\n",
              "      <td>35967.28</td>\n",
              "      <td>105</td>\n",
              "    </tr>\n",
              "    <tr>\n",
              "      <th>225</th>\n",
              "      <td>2021-10-01t00:00:00.000z</td>\n",
              "      <td>2021-10-31t00:00:00.000z</td>\n",
              "      <td>35967.28</td>\n",
              "      <td>105</td>\n",
              "    </tr>\n",
              "    <tr>\n",
              "      <th>226</th>\n",
              "      <td>2021-11-01t00:00:00.000z</td>\n",
              "      <td>2021-11-30t00:00:00.000z</td>\n",
              "      <td>35967.28</td>\n",
              "      <td>105</td>\n",
              "    </tr>\n",
              "    <tr>\n",
              "      <th>227</th>\n",
              "      <td>2021-12-01t00:00:00.000z</td>\n",
              "      <td>2021-12-31t00:00:00.000z</td>\n",
              "      <td>35967.28</td>\n",
              "      <td>105</td>\n",
              "    </tr>\n",
              "  </tbody>\n",
              "</table>\n",
              "<p>120 rows × 4 columns</p>\n",
              "</div>\n",
              "      <button class=\"colab-df-convert\" onclick=\"convertToInteractive('df-8a2945be-92a7-404e-b8c5-e5431e8676bf')\"\n",
              "              title=\"Convert this dataframe to an interactive table.\"\n",
              "              style=\"display:none;\">\n",
              "        \n",
              "  <svg xmlns=\"http://www.w3.org/2000/svg\" height=\"24px\"viewBox=\"0 0 24 24\"\n",
              "       width=\"24px\">\n",
              "    <path d=\"M0 0h24v24H0V0z\" fill=\"none\"/>\n",
              "    <path d=\"M18.56 5.44l.94 2.06.94-2.06 2.06-.94-2.06-.94-.94-2.06-.94 2.06-2.06.94zm-11 1L8.5 8.5l.94-2.06 2.06-.94-2.06-.94L8.5 2.5l-.94 2.06-2.06.94zm10 10l.94 2.06.94-2.06 2.06-.94-2.06-.94-.94-2.06-.94 2.06-2.06.94z\"/><path d=\"M17.41 7.96l-1.37-1.37c-.4-.4-.92-.59-1.43-.59-.52 0-1.04.2-1.43.59L10.3 9.45l-7.72 7.72c-.78.78-.78 2.05 0 2.83L4 21.41c.39.39.9.59 1.41.59.51 0 1.02-.2 1.41-.59l7.78-7.78 2.81-2.81c.8-.78.8-2.07 0-2.86zM5.41 20L4 18.59l7.72-7.72 1.47 1.35L5.41 20z\"/>\n",
              "  </svg>\n",
              "      </button>\n",
              "      \n",
              "  <style>\n",
              "    .colab-df-container {\n",
              "      display:flex;\n",
              "      flex-wrap:wrap;\n",
              "      gap: 12px;\n",
              "    }\n",
              "\n",
              "    .colab-df-convert {\n",
              "      background-color: #E8F0FE;\n",
              "      border: none;\n",
              "      border-radius: 50%;\n",
              "      cursor: pointer;\n",
              "      display: none;\n",
              "      fill: #1967D2;\n",
              "      height: 32px;\n",
              "      padding: 0 0 0 0;\n",
              "      width: 32px;\n",
              "    }\n",
              "\n",
              "    .colab-df-convert:hover {\n",
              "      background-color: #E2EBFA;\n",
              "      box-shadow: 0px 1px 2px rgba(60, 64, 67, 0.3), 0px 1px 3px 1px rgba(60, 64, 67, 0.15);\n",
              "      fill: #174EA6;\n",
              "    }\n",
              "\n",
              "    [theme=dark] .colab-df-convert {\n",
              "      background-color: #3B4455;\n",
              "      fill: #D2E3FC;\n",
              "    }\n",
              "\n",
              "    [theme=dark] .colab-df-convert:hover {\n",
              "      background-color: #434B5C;\n",
              "      box-shadow: 0px 1px 3px 1px rgba(0, 0, 0, 0.15);\n",
              "      filter: drop-shadow(0px 1px 2px rgba(0, 0, 0, 0.3));\n",
              "      fill: #FFFFFF;\n",
              "    }\n",
              "  </style>\n",
              "\n",
              "      <script>\n",
              "        const buttonEl =\n",
              "          document.querySelector('#df-8a2945be-92a7-404e-b8c5-e5431e8676bf button.colab-df-convert');\n",
              "        buttonEl.style.display =\n",
              "          google.colab.kernel.accessAllowed ? 'block' : 'none';\n",
              "\n",
              "        async function convertToInteractive(key) {\n",
              "          const element = document.querySelector('#df-8a2945be-92a7-404e-b8c5-e5431e8676bf');\n",
              "          const dataTable =\n",
              "            await google.colab.kernel.invokeFunction('convertToInteractive',\n",
              "                                                     [key], {});\n",
              "          if (!dataTable) return;\n",
              "\n",
              "          const docLinkHtml = 'Like what you see? Visit the ' +\n",
              "            '<a target=\"_blank\" href=https://colab.research.google.com/notebooks/data_table.ipynb>data table notebook</a>'\n",
              "            + ' to learn more about interactive tables.';\n",
              "          element.innerHTML = '';\n",
              "          dataTable['output_type'] = 'display_data';\n",
              "          await google.colab.output.renderOutput(dataTable, element);\n",
              "          const docLink = document.createElement('div');\n",
              "          docLink.innerHTML = docLinkHtml;\n",
              "          element.appendChild(docLink);\n",
              "        }\n",
              "      </script>\n",
              "    </div>\n",
              "  </div>\n",
              "  "
            ]
          },
          "metadata": {},
          "execution_count": 52
        }
      ]
    },
    {
      "cell_type": "code",
      "source": [
        "final_dataframe.to_csv('rprabak1@asu.edu.csv',index=False)"
      ],
      "metadata": {
        "id": "vyoRdsPn85O8"
      },
      "execution_count": null,
      "outputs": []
    },
    {
      "cell_type": "markdown",
      "source": [
        "To make the model more efficient ,\n",
        "1. The region_id can be converted into categorical variables.\n",
        "2. The distribution of the data should be better analysed so another better model can be chosen to get better results. \n"
      ],
      "metadata": {
        "id": "21eO30E2_uFC"
      }
    },
    {
      "cell_type": "markdown",
      "source": [
        ""
      ],
      "metadata": {
        "id": "qY0Bxp1-_uSk"
      }
    }
  ]
}